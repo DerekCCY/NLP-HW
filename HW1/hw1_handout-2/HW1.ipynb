{
  "cells": [
    {
      "cell_type": "markdown",
      "metadata": {
        "id": "1rLLHK5ryE1H"
      },
      "source": [
        "# Homework 1: Language Identification\n",
        "11-411/11-611 Natural Language Processing (Fall 2024)\n",
        "\n",
        "- RELEASED: Tuesday, Sep 10, 2024\n",
        "- DUE: Tuesday, Oct 1, 2024 11:59 pm EDT\n",
        "\n",
        "**Submission**: Please upload this single file named `HW1.ipynb` to [gradescope](https://www.gradescope.com/courses/557600). Ensure you do not rename the file prior to submission.\n",
        "\n",
        "\n",
        "In this assignment, you will build a language identification classifier that distinguishes between six languages:\n",
        "\n",
        "- [Hausa](https://en.wikipedia.org/wiki/Hausa_language)\n",
        "- [Indonesian](https://en.wikipedia.org/wiki/Indonesian_language)\n",
        "- [Manobo](https://en.wikipedia.org/wiki/Manobo_languages)\n",
        "- [Nahuatl](https://en.wikipedia.org/wiki/Nahuatl)\n",
        "- [Swahili](https://en.wikipedia.org/wiki/Swahili_language)\n",
        "- [Tagalog](https://en.wikipedia.org/wiki/Tagalog_language)\n",
        "\n",
        "Some languages can be distinguished easily, because they use different scripts. These six languages, however, use the same ([Latin](https://en.wikipedia.org/wiki/Latin_script)) script with minimal [diacritics](https://en.wikipedia.org/wiki/Diacritic) so it is difficult to hand-craft classifiers based on the presence or absence of particular characters. Indeed, unless you have linguistic training or familiarity with the languages, it is difficult to tell them apart.\n",
        "\n",
        "How can they be distinguished? A naïve approach is to use word counts as unigram features. However, the number of possible words in a large corpus of five languages is vast. It is essential to look at something smaller — characters.\n",
        "\n",
        "Even though the six languages use roughly the same characters, the relative frequencies of these characters vary greatly. Thus, using characters as features (unigram character models) is appealing (and fairly effective). It is also true that languages vary in their *phonotactics*, the way in which consonants and vowels combine in sequence. Thus, looking at character ngrams (for small values of $n$) is also appealing (and effective). Note, however, that as the value of $n$ increases, this approach runs into the same problem as the word unigram model (sparcity). In this scenario, the model is likely to overfit.\n",
        "\n",
        "Various kinds of classifiers can be used for this application. NB classifiers, for example, are quite effective. However, inference is slow and performance, given the same training set, is likely to be worse than other options. Simple logistic regression cannot be used because this is an n-way (multinomial) classification problem. Multinomial Logistic Regression (Softmax Regression) is a good fit."
      ]
    },
    {
      "cell_type": "markdown",
      "metadata": {
        "id": "XLyf3G0tyE1J"
      },
      "source": [
        "## Requirements\n",
        "\n",
        "You will perform the following tasks:\n",
        "\n",
        "1. Implement a training loop for Multinomial Logistic Regression.\n",
        "2. Implement inference for Multinomal Logistic Regression\n",
        "3. Determine the optimal order of $n$ for ngrams for MNLR trained on the training set.\n",
        "4. Calculate and display a confusion matrix for a trigram model evaluated on the test set.\n",
        "5. Inspect the feature weights, and display the most predictive features for each language."
      ]
    },
    {
      "cell_type": "markdown",
      "metadata": {
        "id": "TrCw0790yE1J"
      },
      "source": [
        "## How to Use Jupyter Notebooks for Our Assignment\n",
        "Throughout our first assignment, we'll utilize Jupyter Notebooks to walk you through concepts, let you implement them, and also allow you to experiment on your own. By the end of this assignment, you'll not only understand word embeddings more deeply but will also become familiar with a powerful tool used extensively in the data science community.\n",
        "\n",
        "### Types of Cells:\n",
        "**Markdown Cells**: These cells (like the one you're reading now) are utilized to write text, frame explanations, embed images, or even formulate equations. They make our notebook more explanatory and structured.\n",
        "\n",
        "**Code Cells**: This is where the action happens. In these cells, you'll write and execute Python code. They will play a critical role in our exercises as you experiment with word embeddings.\n",
        "\n",
        "*Warning*: Refrain from rearranging, adding, or deleting any cells.\n",
        "\n",
        "### Runtime Volatility\n",
        "As you navigate and execute the cells within this Jupyter notebook, it's crucial to understand that the runtime environment is volatile. In simpler terms:\n",
        "\n",
        "*   If you restart the notebook or experience a disconnection, all your in-memory data and variables will be lost.\n",
        "*   While the code and markdown cells will remain, the outputs from code cells will need to be regenerated by rerunning them.\n",
        "\n",
        "Therefore, if you're working on a task over an extended period or with large datasets, remember to save your results and progress frequently to avoid potential data loss.\n",
        "\n",
        "\n",
        "### Running this Notebook on Google Colab\n",
        "Google Colab is a free Jupyter notebook environment that requires no setup and runs entirely in the cloud. To run this notebook on Colab:\n",
        "\n",
        "1.   Save a copy of this notebook on your **Google Drive**.\n",
        "2.   Open the notebook in Google Colab.\n",
        "3.   In Google Colab, you can execute each cell using the play button (or use the keyboard shortcuts mentioned above).\n",
        "\n",
        "**Tip**: Google Colab may automatically disconnect after a certain period of inactivity. Keep this in mind, especially when running longer tasks.\n",
        "\n",
        "**Note**: Google Colab provides free access to GPUs and TPUs, which might be useful for later assignments."
      ]
    },
    {
      "cell_type": "markdown",
      "metadata": {
        "id": "FZWqjeNuyE1K"
      },
      "source": [
        "## Imports\n",
        "Do not change."
      ]
    },
    {
      "cell_type": "code",
      "execution_count": 1,
      "metadata": {
        "id": "L2x9fT-5yE1K"
      },
      "outputs": [],
      "source": [
        "import csv\n",
        "import random\n",
        "\n",
        "import numpy as np\n",
        "import numpy.typing as npt\n",
        "import numpy.testing as testing\n",
        "\n",
        "from collections import Counter"
      ]
    },
    {
      "cell_type": "markdown",
      "metadata": {
        "id": "KKs9Yu7nyE1K"
      },
      "source": [
        "## Helper Functions"
      ]
    },
    {
      "cell_type": "markdown",
      "metadata": {
        "id": "u6KiQ1O7yE1K"
      },
      "source": [
        "### Metrics for Binary Classification"
      ]
    },
    {
      "cell_type": "code",
      "execution_count": 2,
      "metadata": {
        "id": "PXDTvSxGyE1L"
      },
      "outputs": [],
      "source": [
        "def precision(tp: int, fp: int) -> float:\n",
        "    \"\"\"Computes the precision, given true positives and false positives.\"\"\"\n",
        "    return tp / (tp + fp)\n",
        "\n",
        "\n",
        "def recall(tp: int, fn: int) -> float:\n",
        "    \"\"\"Computes the recall, given the true positives and false negatives.\"\"\"\n",
        "    return tp / (tp + fn)\n",
        "\n",
        "\n",
        "def f_measure(beta: float, tp: int, fp: int, fn: int) -> float:\n",
        "    \"\"\"Computes the F-measure for a given beta, true positives, false positives, and false negatives.\"\"\"\n",
        "    return (\n",
        "        (1 + beta**2)\n",
        "        * (precision(tp, fp) * recall(tp, fn))\n",
        "        / (beta**2 * precision(tp, fp) * recall(tp, fn))\n",
        "    )\n",
        "\n",
        "\n",
        "def f1(tp: int, fp: int, fn: int) -> float:\n",
        "    \"\"\"Computes the F1 measure for a given TP, FP, and FN.\"\"\"\n",
        "    return f_measure(1, tp, fp, fn)"
      ]
    },
    {
      "cell_type": "markdown",
      "metadata": {
        "id": "yM1mJJs4yE1L"
      },
      "source": [
        "### Micro-Averaged Metrics"
      ]
    },
    {
      "cell_type": "code",
      "execution_count": 3,
      "metadata": {
        "id": "LxugZlTPyE1L"
      },
      "outputs": [],
      "source": [
        "def micro_precision(tp: \"dict[str, int]\", fp: \"dict[str, int]\") -> float:\n",
        "    \"\"\"Computes micro-averaged precision.\"\"\"\n",
        "    tp_sum = sum(tp.values())\n",
        "    fp_sum = sum(fp.values())\n",
        "    return tp_sum / (tp_sum + fp_sum)\n",
        "\n",
        "\n",
        "def micro_recall(tp: \"dict[str, int]\", fn: \"dict[str, int]\") -> float:\n",
        "    \"\"\"Computes micro-averaged recall.\"\"\"\n",
        "    tp_sum = sum(tp.values())\n",
        "    fn_sum = sum(fn.values())\n",
        "    return tp_sum / (tp_sum + fn_sum)\n",
        "\n",
        "\n",
        "def micro_f1(tp: \"dict[str, int]\", fp: \"dict[str, int]\", fn: \"dict[str, int]\") -> float:\n",
        "    \"\"\"Computes micro-averaged F1.\"\"\"\n",
        "    mp = micro_precision(tp, fp)\n",
        "    mr = micro_recall(tp, fn)\n",
        "    return 2 * (mp * mr) / (mp + mr)"
      ]
    },
    {
      "cell_type": "markdown",
      "metadata": {
        "id": "jNG8QyAnyE1L"
      },
      "source": [
        "### Macro-Averaged Metrics"
      ]
    },
    {
      "cell_type": "code",
      "execution_count": 4,
      "metadata": {
        "id": "aOdvkruIyE1L"
      },
      "outputs": [],
      "source": [
        "def macro_precision(tp: \"dict[str, int]\", fp: \"dict[str, int]\") -> float:\n",
        "    \"\"\"Computes macro-averaged precision.\"\"\"\n",
        "    n = len(tp)\n",
        "    return (1 / n) * sum([precision(tp[c], fp[c]) for c in tp.keys()])\n",
        "\n",
        "\n",
        "def macro_recall(tp: \"dict[str, int]\", fn: \"dict[str, int]\") -> float:\n",
        "    \"\"\"Computes macro-averaged recall.\"\"\"\n",
        "    n = len(tp)\n",
        "    return (1 / n) * sum([recall(tp[c], fn[c]) for c in tp.keys()])\n",
        "\n",
        "\n",
        "def macro_f1(tp: \"dict[str, int]\", fp: \"dict[str, int]\", fn: \"dict[str, int]\") -> float:\n",
        "    \"\"\"Computes macro-averaged F1.\"\"\"\n",
        "    n = len(tp)\n",
        "    return (\n",
        "        2\n",
        "        * (macro_precision(tp, fp) * macro_recall(tp, fn))\n",
        "        / (macro_precision(tp, fp) + macro_recall(tp, fn))\n",
        "    )"
      ]
    },
    {
      "cell_type": "markdown",
      "metadata": {
        "id": "60uRaPkSyE1L"
      },
      "source": [
        "## Preprocess Data"
      ]
    },
    {
      "cell_type": "markdown",
      "metadata": {
        "id": "_5JenndHyE1L"
      },
      "source": [
        "### Loading data from files\n",
        "\n",
        "We first need to load data from the provided TSV files. Each file is two columns, the language of the document and the document text, separated by a tab (`\\t`) character. We load this data into a list of tuples, to maintain the coupling between each document and its label."
      ]
    },
    {
      "cell_type": "code",
      "execution_count": 5,
      "metadata": {
        "id": "expfX6fGyE1M"
      },
      "outputs": [],
      "source": [
        "def load_data(data_filename: str) -> list[tuple[str, str]]:\n",
        "    with open(data_filename) as fin:\n",
        "        reader = csv.reader(fin, delimiter=\"\\t\")\n",
        "        language_document_tuples = [(lang, doc) for (lang, doc) in reader]\n",
        "    return language_document_tuples"
      ]
    },
    {
      "cell_type": "markdown",
      "metadata": {
        "id": "t3Y6mfWfyE1M"
      },
      "source": [
        "### Feature Extraction\n",
        "\n",
        "We will use ngrams as features, so we need to be able to extract them."
      ]
    },
    {
      "cell_type": "code",
      "execution_count": 6,
      "metadata": {
        "id": "nQYIOr2NyE1M"
      },
      "outputs": [],
      "source": [
        "def extract_ngrams(x: str, n=3) -> \"list[str]\":\n",
        "    \"\"\"Given a string, return all character ngrams of order `n`.      [\"abc\", \"bcd\", \"cde\", \"def\"]\"\"\"\n",
        "    return [\"\".join(s) for s in (zip(*[x[i:] for i in range(n)]))]"
      ]
    },
    {
      "cell_type": "markdown",
      "metadata": {
        "id": "kkIdpen-yE1M"
      },
      "source": [
        "### Language Codes to One-Hot Vectors\n",
        "And we need a function to convert a language code into a **one-hot vector** (called $\\mathbf{y}$)."
      ]
    },
    {
      "cell_type": "code",
      "execution_count": 7,
      "metadata": {
        "id": "RSynlhE0yE1M"
      },
      "outputs": [],
      "source": [
        "def to_onehot_vector(lang: str, langs: list[str]) -> np.ndarray:\n",
        "    y = np.zeros(len(langs))\n",
        "    y[langs.index(lang)] = 1\n",
        "    return y"
      ]
    },
    {
      "cell_type": "markdown",
      "metadata": {
        "id": "WZPNsUJ0yE1M"
      },
      "source": [
        "We need to be able to convert `dict`s of ngram counts to vectors of ngram counts (using a map from ngrams to dimensions of the vectors)."
      ]
    },
    {
      "cell_type": "code",
      "execution_count": 8,
      "metadata": {
        "id": "4eLNWl8iyE1M"
      },
      "outputs": [],
      "source": [
        "def vectorize_ngrams(counter: dict[str, int], feature_map: dict[str, int]) -> np.ndarray:\n",
        "    \"\"\"\n",
        "    Given a dict of ngram counts and a map from features to indices, returns a vector of ngram counts.\n",
        "\n",
        "    Parameters\n",
        "    ----------\n",
        "    counter : dict      { \"abc\": 0, \"bcd\": 1, ... }\n",
        "        Counter/dict of ngram counts\n",
        "    feature_map : dict        feature_map = {\"mac\": 0, \"ach\": 1, \"chi\": 2}\n",
        "\n",
        "        Map from ngrams to indices\n",
        "\n",
        "    Returns\n",
        "    -------\n",
        "    np.ndarray\n",
        "        A vector of ngram counts\n",
        "    \"\"\"\n",
        "    feature_vector = np.zeros(len(feature_map))\n",
        "    for ngram, count in counter.items():\n",
        "        if ngram in feature_map:\n",
        "            feature_vector[feature_map[ngram]] = count\n",
        "    #print(f'feature_vector{feature_vector}')\n",
        "    return feature_vector"
      ]
    },
    {
      "cell_type": "markdown",
      "metadata": {
        "id": "g-A2mO8_yE1M"
      },
      "source": [
        "And putting together the conversion from text into ngrams, and vectorizing the ngrams:"
      ]
    },
    {
      "cell_type": "code",
      "execution_count": 9,
      "metadata": {
        "id": "AbTp6E5IyE1M"
      },
      "outputs": [],
      "source": [
        "def vectorize_document(document: str, feature_map: dict[str, int], ngram_length: int) -> np.ndarray:\n",
        "    document_ngrams = extract_ngrams(document, ngram_length)\n",
        "    #print(f'document_ngrams: {document_ngrams}')\n",
        "    vector = vectorize_ngrams(Counter(document_ngrams), feature_map)\n",
        "    #print(f'vector: {vector}')\n",
        "    return vector"
      ]
    },
    {
      "cell_type": "markdown",
      "metadata": {
        "id": "2czxhma2yE1M"
      },
      "source": [
        "We need separate functions for preprocessing the training observations and the dev/test observations. The former function must return a map from language names to labels as one-hot vectors as well as a map from features (ngrams) to indices of vector dimensions."
      ]
    },
    {
      "cell_type": "code",
      "execution_count": 10,
      "metadata": {
        "id": "xJ4N-OLbyE1M"
      },
      "outputs": [],
      "source": [
        "def preprocess_training_observations(\n",
        "    training_observations: list[tuple[str, str]], n: int =1\n",
        ") -> tuple[list[tuple[np.ndarray, np.ndarray]], dict[str, np.ndarray], dict[str, int]]:\n",
        "    langs = set()       # To store unique language labels\n",
        "    features = set()    # To store unique n-grams across all documents\n",
        "    obs = []            # To collect processed observations\n",
        "\n",
        "    for lang, doc in training_observations:\n",
        "        langs.add(lang)\n",
        "        ngrams = extract_ngrams(doc, n)\n",
        "        features = features | set(ngrams)\n",
        "        obs.append((lang, ngrams))\n",
        "    feature_map = {feature: idx for idx, feature in enumerate(sorted(features))}\n",
        "    lang_list = list(sorted(langs))\n",
        "    lang_map = {lang: to_onehot_vector(lang, lang_list) for lang in lang_list}\n",
        "\n",
        "    obs = [\n",
        "        (lang_map[lang], vectorize_ngrams(Counter(ngrams), feature_map)) for (lang, ngrams) in obs\n",
        "    ]\n",
        "\n",
        "    #print(f\"{len(obs)} training observations.\")\n",
        "    return obs, lang_map, feature_map"
      ]
    },
    {
      "cell_type": "markdown",
      "metadata": {
        "id": "PDikqEOJyE1N"
      },
      "source": [
        "The function for preprocessing test observations (and dev observations) takes the feature map and the language map as arguments and returns only the list of labeled observations."
      ]
    },
    {
      "cell_type": "code",
      "execution_count": 11,
      "metadata": {
        "id": "SiMQaZ4gyE1N"
      },
      "outputs": [],
      "source": [
        "def preprocess_test_observations(\n",
        "    test_observations, feature_map: dict[str, int], lang_map: dict[str, np.ndarray], n: int = 1\n",
        ") -> tuple[list[np.ndarray], list[np.ndarray]]:\n",
        "    obs = []\n",
        "\n",
        "    for i, (lang, doc) in enumerate(test_observations):\n",
        "        vectorized_doc = vectorize_document(doc, feature_map, ngram_length=n)\n",
        "        try:\n",
        "            obs.append((lang_map[lang], vectorized_doc))\n",
        "        except KeyError:\n",
        "            print(f\"Unkown language {lang} at index {i}. Known languages are: {lang_map.keys()}\")\n",
        "    #print(f\"{len(obs)} test observations.\")\n",
        "    return obs"
      ]
    },
    {
      "cell_type": "markdown",
      "metadata": {
        "id": "tsIWr3b4yE1N"
      },
      "source": [
        "### Classification Function"
      ]
    },
    {
      "cell_type": "markdown",
      "metadata": {
        "id": "cAlUSgMTyE1N"
      },
      "source": [
        "We also need to define the softmax function.\n",
        "\n",
        "Softmax is technically\n",
        "\n",
        "$$\\text{softmax}(z_i) = \\frac{e^{z_i}}{\\sum^K_{j=1} e^{z_j}}$$\n",
        "\n",
        "However, if implemented naïvely, this is not numerically stable. Instead, we use:\n",
        "\n",
        "$$\\text{softmax}(z_i) = \\frac{e^{z_i - \\text{max}(z)}}{\\sum^K_{j=1} e^{z_j - \\text{max}(z)}}$$\n"
      ]
    },
    {
      "cell_type": "code",
      "execution_count": 12,
      "metadata": {
        "id": "Dz2KGujgyE1N"
      },
      "outputs": [],
      "source": [
        "def softmax(z: npt.ArrayLike) -> npt.ArrayLike:\n",
        "    \"\"\"Compute the softmax of a vector `z`\"\"\"\n",
        "    # exp(z) can get very large. For numerical stability, we subtract a vector of very large values (np.max(z)) from z.\n",
        "    return np.exp(z - np.max(z)) / np.exp(z - np.max(z)).sum()"
      ]
    },
    {
      "cell_type": "markdown",
      "metadata": {
        "id": "dmmpqXV2yE1N"
      },
      "source": [
        "## Training the Classifier"
      ]
    },
    {
      "cell_type": "markdown",
      "metadata": {
        "id": "EzWD7RGCyE1N"
      },
      "source": [
        "### Compute the gradient\n",
        "\n",
        "The formula for computing one element in our gradient is as follows (the partial derivitive of the negative log likelihood loss):\n",
        "\n",
        "$$\\frac{\\partial L_{CE}}{\\partial \\mathbf{w}_{k,i}}=-(\\mathbf{y}_k-\\hat{\\mathrm{y}}_k)\\mathbf{x}_i$$\n",
        "\n",
        "where $k$ is the **class** (rows of the matrix $\\mathbf{w}$) and $i$ corresponds the the feature (columns of the matrix $\\mathbf{w}$).\n",
        "\n",
        "We will define a function `grad` for computing the whole gradient, a $K \\times N$ matrix.\n",
        "\n",
        "**This is the first piece of code that you'll write.**"
      ]
    },
    {
      "cell_type": "code",
      "execution_count": 13,
      "metadata": {
        "id": "rUTieBtDyE1N",
        "tags": [
          "Answer Expected"
        ]
      },
      "outputs": [],
      "source": [
        "def grad(W: np.ndarray, y: np.ndarray, x: np.ndarray) -> np.ndarray:\n",
        "    \"\"\"\n",
        "    Caculates the gradient of the negative log liklihood loss, a [K * N] matrix, with respect to W.\n",
        "\n",
        "    Parameters\n",
        "    ----------\n",
        "    W : np.ndarray\n",
        "        A matrix of of weights\n",
        "    y : np.ndarray\n",
        "       The true label of the observation, expressed as a [K * N] matrix.\n",
        "    x : np.ndarray\n",
        "        A vector of features.\n",
        "\n",
        "    Returns\n",
        "    -------\n",
        "    np.ndarray\n",
        "        The gradient of the loss with respect to W.\n",
        "    \"\"\"\n",
        "    #print(f'x.shape: {x.shape}')\n",
        "    #print(f'y.shape: {y.shape}')\n",
        "    y_hat = softmax(W @ x)\n",
        "    #print(f'y_hat.shape: {y_hat.shape}')\n",
        "    error = y - y_hat\n",
        "    gradient = - x @ error.T\n",
        "    \n",
        "    return gradient.T"
      ]
    },
    {
      "cell_type": "markdown",
      "metadata": {
        "id": "DsWLPhtnyE1N"
      },
      "source": [
        "### Training Loop\n",
        "\n",
        "Iterate over the observations in the training set $n$ times (in random order). For each item, compute the one-hot vector $\\mathbf{y}$ and the probability distribution $\\hat{\\mathbf{y}}$. Use these values to compute the gradient. Update the parameters based on the gradient. At the end of each epoch (pass through the training data), compute the true positives, false positives, and false negatives for each target class based on the current weights, and report micro-averaged precision and recall.\n",
        "\n",
        "**Note**: The way that we evaluated the training loop depended on an in-place shuffle of the training data, which, while not technically wrong, is maybe not the most intuitive way to do it. When shuffling your data, please either use a shuffling method that does not change the observations parameter in-place. In particular, please use `random.sample` like:\n",
        "```\n",
        "shuffled_observations = random.sample(observations, len(observations))\n",
        "```\n",
        "\n",
        "How you report the metrics is up to you — we will not look at what you output to STDOUT — but it is important that you do this. **Otherwise, you will not be able to determine whether your model is training.**\n",
        "\n",
        "You can also output the loss at each step (very noisy!), each epoch, or run the classifier on the dev set and report the metrics at the end of each epoch.\n",
        "\n",
        "Remember that the 0th column in $W$ contains the biases. You will have to insert a $1$ at the beginning of the feature vector $x$ in order to accomodate this."
      ]
    },
    {
      "cell_type": "code",
      "execution_count": 14,
      "metadata": {
        "id": "qt8b3a7dyE1N",
        "tags": [
          "Answer Expected"
        ]
      },
      "outputs": [],
      "source": [
        "from collections import Counter\n",
        "def train(observations: tuple[np.ndarray, np.ndarray], eta: float, epochs: int = 1) -> np.ndarray:\n",
        "    \"\"\"\n",
        "    Give a set of observations, returns a trained multinomial LR (softmax regression) model.\n",
        "\n",
        "    Parameters\n",
        "    ----------\n",
        "    observations : (np.ndarray, np.ndarray)\n",
        "        Pairs consisting of a tuple of NumPy arrays (a one-hot vector encoding the ground truth language labels and a vector of features)\n",
        "    epochs : int\n",
        "        The number of epochs to train the model.\n",
        "\n",
        "    Returns\n",
        "    -------\n",
        "    np.ndarray\n",
        "        The moodel as a [K * N] weight matrix.l\n",
        "    \"\"\"\n",
        "    \n",
        "    features = np.vstack([obs[1] for obs in observations])  # Shape: (N, M)\n",
        "    label = np.vstack([obs[0] for obs in observations])    # Shape: (N, K)\n",
        "    \n",
        "    num_data = features.shape[0] \n",
        "    num_features = features.shape[1]\n",
        "    num_features = features.shape[1] + 1  # +1 for bias term\n",
        "    num_classes = label.shape[1]\n",
        "    #print(f'Features number: {num_features}')\n",
        "    #print(f'num_classes number: {num_classes}')\n",
        "    \n",
        "    W = np.zeros((num_classes, num_features))\n",
        "    #np.random.randn(num_classes, num_features) *0.01     # [K x N]\n",
        "    #print(f'W.shape: {W.shape}')\n",
        "    \n",
        "    for epoch in range(epochs):\n",
        "        shuffled_observations = random.sample(observations, len(observations))\n",
        "        for y, x in shuffled_observations:\n",
        "            bias = np.array([[1]])  # A single scalar bias of shape (1, 1)\n",
        "            x = x.reshape(-1, 1)\n",
        "            x = np.concatenate([x, bias], axis=0)  # Concatenate along axis 0 to make x (7942, 1)\n",
        "            #print(f'x.shape{x.shape}')\n",
        "            #x = x.reshape(-1, 1)  \n",
        "            y = y.reshape(-1, 1)\n",
        "            W = W - eta*grad(W, y, x)\n",
        "        #for i in range(num_data):                    # go through each training sample\n",
        "        #    x = features[i,:].reshape(-1,1)\n",
        "        #    y = label[i,:].reshape(-1,1)\n",
        "        #    W = W - eta*grad(W, y, x)\n",
        "            \n",
        "    return W "
      ]
    },
    {
      "cell_type": "markdown",
      "metadata": {
        "id": "RYlrRD2iyE1O"
      },
      "source": [
        "## Classification\n",
        "\n",
        "The classification function is very simple."
      ]
    },
    {
      "cell_type": "code",
      "execution_count": 15,
      "metadata": {
        "id": "cXDadimZyE1O",
        "tags": [
          "Answer Expected"
        ]
      },
      "outputs": [],
      "source": [
        "def classify(W: np.ndarray, x: np.ndarray) -> np.intp:\n",
        "    \"\"\"\n",
        "    Return the index of the hypothesized language.\n",
        "\n",
        "    Parameters\n",
        "    ----------\n",
        "    W : np.ndarray\n",
        "        Weight matrix (one row for each category/language, on column for each feature)\n",
        "    x : np.ndarray\n",
        "        Vector of real-valuled features\n",
        "\n",
        "    Returns\n",
        "    -------\n",
        "    intp\n",
        "        The index of the hypothesized language.\n",
        "    \"\"\"\n",
        "    bias = np.array([[1]])  # A single scalar bias of shape (1, 1)\n",
        "    x = x.reshape(-1, 1)\n",
        "    x = np.concatenate([x, bias], axis=0)  # Concatenate along axis 0 to make x (7942, 1)\n",
        "    probability_distribution = softmax(W @ x)\n",
        "    higher_probability = np.argmax(probability_distribution,axis=0)\n",
        "    language_index = higher_probability.item()\n",
        "    #print(f\"language_index: {language_index}\")\n",
        "    return language_index"
      ]
    },
    {
      "cell_type": "markdown",
      "metadata": {
        "id": "PvS-HsSyyE1O"
      },
      "source": [
        "## Evaluate the Classifier"
      ]
    },
    {
      "cell_type": "markdown",
      "metadata": {
        "id": "QVr5HQUzyE1O"
      },
      "source": [
        "Then, a function to train and evaluate the classifier."
      ]
    },
    {
      "cell_type": "code",
      "execution_count": 16,
      "metadata": {
        "id": "JfBmJWlQyE1O"
      },
      "outputs": [],
      "source": [
        "def evaluate(train_set, test_set, eta, epochs=3):\n",
        "    \"\"\"Trains and evaluates a model.\"\"\"\n",
        "    print(\"Training model\")\n",
        "    W = train(train_set, eta, epochs=epochs)\n",
        "    print(\"\\nCLASSIFY\")\n",
        "    tp, fp, fn = Counter(), Counter(), Counter()\n",
        "    for ref_lang_vec, x in test_set:\n",
        "        ref_lang = np.argmax(ref_lang_vec)\n",
        "        hyp_lang = classify(W, x)\n",
        "        if hyp_lang == ref_lang:\n",
        "            tp[ref_lang] += 1\n",
        "        else:\n",
        "            fp[hyp_lang] += 1\n",
        "            fn[ref_lang] += 1\n",
        "    # Print metrics\n",
        "\n",
        "    test_macro_f1 = macro_f1(tp, fp, fn)\n",
        "    test_micro_f1 = micro_f1(tp, fp, fn)\n",
        "    print(f\"macro-averaged F1:\\t\\t{test_macro_f1:.3f}\")\n",
        "    print(f\"micro-averaged F1:\\t\\t{test_micro_f1:.3f}\")\n",
        "    return test_macro_f1, test_micro_f1"
      ]
    },
    {
      "cell_type": "markdown",
      "metadata": {
        "id": "T_Yi3u7fyE1O"
      },
      "source": [
        "### Putting it all together"
      ]
    },
    {
      "cell_type": "markdown",
      "metadata": {
        "id": "Gt6pGjk-yE1O"
      },
      "source": [
        "Load the data:"
      ]
    },
    {
      "cell_type": "code",
      "execution_count": 17,
      "metadata": {
        "id": "F9ppF8bXyE1O"
      },
      "outputs": [],
      "source": [
        "train_observations = load_data(\"train.tsv\")\n",
        "test_observations = load_data(\"test.tsv\")"
      ]
    },
    {
      "cell_type": "markdown",
      "metadata": {
        "id": "_zOiLs2IyE1P"
      },
      "source": [
        "### Inspecting the data\n",
        "\n",
        "Before we actually train the classifier, it's important to look at your data, and check that any assumptions you're making about it are justified. It's always useful at this point to check basic things, like:\n",
        "- How many instances of train and test data do you have?\n",
        "- What labels are in your data, and do those match between the train and test splits?\n",
        "- What is the class balance (i.e. how many instances of each class) in your dataset? Is it balanced or unbalanced?\n",
        "\n",
        "Output a dictionary for the train and test data that maps each label to the count of instances that have that label, e.g.:\n",
        "```\n",
        "{\"hausa\": 4000, \"indonesian\":...}\n",
        "```\n",
        "\n",
        "Your dictionary should be sorted in descending order of occurrence of languages."
      ]
    },
    {
      "cell_type": "code",
      "execution_count": 18,
      "metadata": {
        "colab": {
          "base_uri": "https://localhost:8080/"
        },
        "id": "SGEpfqiFyE1P",
        "outputId": "9a7c8fe2-8233-43b5-f461-30a778d5d8f9",
        "output_for": "1.1",
        "tags": [
          "Answer Expected"
        ]
      },
      "outputs": [
        {
          "name": "stdout",
          "output_type": "stream",
          "text": [
            "{'swahili': 377, 'tagalog': 365, 'manobo': 111, 'hausa': 91, 'nahuatl': 90, 'indonesian': 86}\n"
          ]
        }
      ],
      "source": [
        "# this cell's output will be used for test 1.1\n",
        "# your code here - train set\n",
        "obs, lang_map, feature_map = preprocess_training_observations(train_observations)\n",
        "#print(obs)\n",
        "#print(lang_map.items())\n",
        "#print(feature_map)\n",
        "lang_count = {lang: 0 for lang in lang_map.keys()}\n",
        "\n",
        "for lang_vector, feature_vector in obs:\n",
        "    for lang, vector in lang_map.items():\n",
        "        if np.array_equal(lang_vector, vector):\n",
        "            lang_count[lang] +=1\n",
        "            break\n",
        "lang_count_sorted = dict(sorted(lang_count.items(), key=lambda item: item[1], reverse=True))\n",
        "print(lang_count_sorted)\n"
      ]
    },
    {
      "cell_type": "code",
      "execution_count": 19,
      "metadata": {
        "colab": {
          "base_uri": "https://localhost:8080/"
        },
        "id": "7ec4VSKgyE1P",
        "outputId": "ea12eb97-2bf0-46c8-d0fd-bdc35194e916",
        "output_for": "1.2",
        "tags": [
          "Answer Expected"
        ]
      },
      "outputs": [
        {
          "name": "stdout",
          "output_type": "stream",
          "text": [
            "{'swahili': 142, 'tagalog': 121, 'nahuatl': 36, 'manobo': 34, 'indonesian': 32, 'hausa': 28}\n"
          ]
        }
      ],
      "source": [
        "# this cell's output will be used for test 1.2\n",
        "# your code here - test set\n",
        "\n",
        "obs = preprocess_test_observations(test_observations,feature_map, lang_map)\n",
        "#print(obs)\n",
        "#print(lang_map.items())\n",
        "#print(feature_map)\n",
        "lang_count = {lang: 0 for lang in lang_map.keys()}\n",
        "\n",
        "for lang_vector, feature_vector in obs:\n",
        "    for lang, vector in lang_map.items():\n",
        "        if np.array_equal(lang_vector, vector):\n",
        "            lang_count[lang] +=1\n",
        "            break\n",
        "lang_count_sorted = dict(sorted(lang_count.items(), key=lambda item: item[1], reverse=True))\n",
        "print(lang_count_sorted)\n"
      ]
    },
    {
      "cell_type": "markdown",
      "metadata": {
        "id": "rETq5USgyE1P"
      },
      "source": [
        "### Set hyperparameters and parameters\n",
        "\n",
        "Before training the model, we have to set the learning rate $\\eta$ and the order of the ngrams used in feature extraction."
      ]
    },
    {
      "cell_type": "code",
      "execution_count": 20,
      "metadata": {
        "id": "d26VTkykyE1P"
      },
      "outputs": [],
      "source": [
        "eta = 0.0005  # Do not change this.\n",
        "epochs = 4  # Do not change this."
      ]
    },
    {
      "cell_type": "code",
      "execution_count": 21,
      "metadata": {
        "id": "JmCmuEpXQ3V7"
      },
      "outputs": [],
      "source": [
        "order_of_ngrams = 2  # Change this."
      ]
    },
    {
      "cell_type": "markdown",
      "metadata": {
        "id": "35um7JeyyE1P"
      },
      "source": [
        "### Running our training and evaluation loops"
      ]
    },
    {
      "cell_type": "markdown",
      "metadata": {
        "id": "q7XNyGzmyE1P"
      },
      "source": [
        "Now train your classifier, and evaluate it on the test set. Vary the number of ngrams, and observe how it changes train and test F1."
      ]
    },
    {
      "cell_type": "code",
      "execution_count": 22,
      "metadata": {
        "colab": {
          "base_uri": "https://localhost:8080/"
        },
        "id": "ITzdOoUHyE1P",
        "outputId": "8e8fff2a-65f5-4f48-f7df-ad2e9ef72c9b"
      },
      "outputs": [
        {
          "name": "stdout",
          "output_type": "stream",
          "text": [
            "Training model\n",
            "\n",
            "CLASSIFY\n",
            "macro-averaged F1:\t\t0.979\n",
            "micro-averaged F1:\t\t0.987\n"
          ]
        }
      ],
      "source": [
        "train_set, lang_map, feature_map = preprocess_training_observations(\n",
        "    train_observations, n=order_of_ngrams\n",
        ")\n",
        "test_set = preprocess_test_observations(test_observations, feature_map, lang_map, n=order_of_ngrams)\n",
        "random.seed(27)\n",
        "test_macro_f1, test_micro_f1 = evaluate(train_set, test_set, eta, epochs=epochs)"
      ]
    },
    {
      "cell_type": "markdown",
      "metadata": {
        "id": "n4FNpx3JyE1P"
      },
      "source": [
        "Print the tuple of the best values of `(macro_f1, micro_f1)` for the model evaluated on your test set while varying the order of the ngrams. What value of n produced the best result? Why might that be?"
      ]
    },
    {
      "cell_type": "code",
      "execution_count": 23,
      "metadata": {
        "colab": {
          "base_uri": "https://localhost:8080/"
        },
        "id": "Pl3218WryE1P",
        "outputId": "cae3f913-d49b-4e02-f123-d2e074ff6f2f",
        "output_for": "2.1",
        "tags": [
          "Answer Expected"
        ]
      },
      "outputs": [
        {
          "name": "stdout",
          "output_type": "stream",
          "text": [
            "(0.9793453311893895, 0.9872773536895675)\n"
          ]
        }
      ],
      "source": [
        "# the output of this cell will be used for test 2.1\n",
        "print((test_macro_f1, test_micro_f1))"
      ]
    },
    {
      "cell_type": "markdown",
      "metadata": {
        "id": "ADbxCAlLyE1P"
      },
      "source": [
        "## Inspecting Classification Results\n",
        "\n",
        "We've trained our classifier, and your final F1 should be pretty close to 1.0. Great job! But what does that mean for the languages you're actually classifying? Let's rewrite our evaluation code to allow us to look at our results instance-by-instance. For this, we're going to examine the results of a re-trained trigram classifier, trained for one epoch."
      ]
    },
    {
      "cell_type": "code",
      "execution_count": 24,
      "metadata": {
        "colab": {
          "base_uri": "https://localhost:8080/"
        },
        "id": "5eQAaoAYyE1Q",
        "outputId": "7c48e452-4863-462e-dd6e-609ce2502a26"
      },
      "outputs": [
        {
          "name": "stdout",
          "output_type": "stream",
          "text": [
            "W_inspect.shape: (6, 7942)\n",
            "macro-averaged F1:\t\t0.949\n",
            "micro-averaged F1:\t\t0.962\n"
          ]
        }
      ],
      "source": [
        "# Re-training a trigram classifier. Do not change this.\n",
        "\n",
        "INSPECTION_NGRAMS = 3\n",
        "\n",
        "train_set, lang_map, feature_map = preprocess_training_observations(\n",
        "    train_observations, n=INSPECTION_NGRAMS\n",
        ")\n",
        "test_set = preprocess_test_observations(\n",
        "    test_observations, feature_map, lang_map, n=INSPECTION_NGRAMS\n",
        ")\n",
        "\n",
        "random.seed(27)\n",
        "W_inspect = train(train_set, eta, epochs=1)\n",
        "print(f\"W_inspect.shape: {W_inspect.shape}\")\n",
        "\n",
        "## evaluate it as before. Check that this looks the same!\n",
        "tp, fp, fn = Counter(), Counter(), Counter()\n",
        "for ref_lang_vec, x in test_set:\n",
        "    ref_lang = np.argmax(ref_lang_vec)\n",
        "    \n",
        "    hyp_lang = classify(W_inspect, x)\n",
        "    if hyp_lang == ref_lang:\n",
        "        tp[ref_lang] += 1\n",
        "    else:\n",
        "        fp[hyp_lang] += 1\n",
        "        fn[ref_lang] += 1\n",
        "# Print metrics\n",
        "\n",
        "print(f\"macro-averaged F1:\\t\\t{macro_f1(tp, fp, fn):.3f}\")\n",
        "print(f\"micro-averaged F1:\\t\\t{micro_f1(tp, fp, fn):.3f}\")"
      ]
    },
    {
      "cell_type": "markdown",
      "metadata": {
        "id": "21Z8m6YVyE1Q"
      },
      "source": [
        "### Writing a prediction function\n",
        "\n",
        "Write a function that takes a list of observations, and produces a list of either class indices, or class names based on a parameter. This will allow you both to look at individual results from evaluating on an existing set of data (like the test set), but also for you to evaluate your classifier on new data (i.e. any string). This will involve vectorizing the list of documents, and classifying those vectors. Once that's complete, construct an inverse language mapping, from predicted indices to the language they represent."
      ]
    },
    {
      "cell_type": "code",
      "execution_count": 25,
      "metadata": {
        "id": "AQZHWlX7yE1Q",
        "tags": [
          "Answer Expected"
        ]
      },
      "outputs": [],
      "source": [
        "def predict(\n",
        "    documents: list[str],\n",
        "    W: np.ndarray,\n",
        "    feature_map: dict[str, int],\n",
        "    lang_map: dict[str, np.ndarray],\n",
        "    ngram_length: int,\n",
        "    return_class_names=False,\n",
        "):\n",
        "    # your code here\n",
        "    vector_of_document_list = []\n",
        "    for i, doc in enumerate(documents):\n",
        "        vector_of_document = vectorize_document(doc, feature_map, ngram_length)      #[1,1,1,0,1,...] times of appearance\n",
        "        #print(f'vector_of_document.shape{vector_of_document.shape}')\n",
        "        vector_of_document_list.append(vector_of_document)\n",
        "        \n",
        "    #print(f\"W_inspect.shape{W_inspect.shape}\")\n",
        "    prediction_of_class_name = []\n",
        "    for vector in vector_of_document_list:\n",
        "        prediction = classify(W, vector)     #[0,0,0,0,1,0] one of six and then return the index\n",
        "        \n",
        "        if return_class_names == True:\n",
        "            \n",
        "            for lang, lang_vector in lang_map.items():\n",
        "                lang_vector_index = np.argmax(lang_vector)\n",
        "                \n",
        "                if prediction == lang_vector_index:\n",
        "                    prediction_of_class_name.append(lang)\n",
        "        else:\n",
        "            prediction_of_class_name.append(prediction)\n",
        "        \n",
        "    return prediction_of_class_name"
      ]
    },
    {
      "cell_type": "markdown",
      "metadata": {
        "id": "924RYujfyE1Q"
      },
      "source": [
        "Now, for each instance in the test set, print a tuple of the actual label, then the predicted label."
      ]
    },
    {
      "cell_type": "code",
      "execution_count": 26,
      "metadata": {
        "colab": {
          "base_uri": "https://localhost:8080/"
        },
        "id": "bPbGtDUayE1Q",
        "outputId": "a1047976-a674-4a3f-d376-0b194b6f044d",
        "output_for": "3.1",
        "tags": [
          "Answer Expected"
        ]
      },
      "outputs": [
        {
          "name": "stdout",
          "output_type": "stream",
          "text": [
            "[('swahili', 'swahili'), ('indonesian', 'indonesian'), ('tagalog', 'tagalog'), ('indonesian', 'indonesian'), ('hausa', 'hausa'), ('nahuatl', 'nahuatl'), ('hausa', 'hausa'), ('manobo', 'manobo'), ('swahili', 'swahili'), ('swahili', 'swahili'), ('tagalog', 'tagalog'), ('indonesian', 'indonesian'), ('tagalog', 'tagalog'), ('tagalog', 'tagalog'), ('swahili', 'swahili'), ('swahili', 'swahili'), ('hausa', 'swahili'), ('indonesian', 'indonesian'), ('manobo', 'manobo'), ('tagalog', 'tagalog'), ('swahili', 'swahili'), ('swahili', 'swahili'), ('manobo', 'manobo'), ('swahili', 'swahili'), ('manobo', 'manobo'), ('swahili', 'swahili'), ('tagalog', 'tagalog'), ('swahili', 'swahili'), ('swahili', 'swahili'), ('nahuatl', 'nahuatl'), ('nahuatl', 'nahuatl'), ('swahili', 'swahili'), ('swahili', 'swahili'), ('swahili', 'swahili'), ('tagalog', 'tagalog'), ('indonesian', 'indonesian'), ('nahuatl', 'nahuatl'), ('tagalog', 'tagalog'), ('tagalog', 'tagalog'), ('tagalog', 'tagalog'), ('tagalog', 'tagalog'), ('tagalog', 'tagalog'), ('indonesian', 'indonesian'), ('tagalog', 'tagalog'), ('tagalog', 'tagalog'), ('swahili', 'swahili'), ('nahuatl', 'nahuatl'), ('swahili', 'swahili'), ('swahili', 'swahili'), ('swahili', 'swahili'), ('swahili', 'swahili'), ('swahili', 'swahili'), ('manobo', 'manobo'), ('nahuatl', 'nahuatl'), ('swahili', 'swahili'), ('indonesian', 'indonesian'), ('nahuatl', 'nahuatl'), ('nahuatl', 'nahuatl'), ('tagalog', 'tagalog'), ('hausa', 'hausa'), ('swahili', 'swahili'), ('tagalog', 'tagalog'), ('tagalog', 'tagalog'), ('indonesian', 'indonesian'), ('swahili', 'swahili'), ('tagalog', 'tagalog'), ('tagalog', 'tagalog'), ('tagalog', 'tagalog'), ('swahili', 'swahili'), ('tagalog', 'tagalog'), ('manobo', 'manobo'), ('tagalog', 'tagalog'), ('tagalog', 'swahili'), ('manobo', 'manobo'), ('manobo', 'manobo'), ('manobo', 'manobo'), ('swahili', 'swahili'), ('swahili', 'swahili'), ('swahili', 'swahili'), ('swahili', 'swahili'), ('tagalog', 'tagalog'), ('tagalog', 'tagalog'), ('manobo', 'manobo'), ('swahili', 'swahili'), ('tagalog', 'tagalog'), ('indonesian', 'indonesian'), ('swahili', 'swahili'), ('swahili', 'swahili'), ('tagalog', 'tagalog'), ('manobo', 'manobo'), ('swahili', 'swahili'), ('tagalog', 'tagalog'), ('indonesian', 'indonesian'), ('indonesian', 'indonesian'), ('swahili', 'swahili'), ('swahili', 'swahili'), ('tagalog', 'tagalog'), ('tagalog', 'tagalog'), ('hausa', 'swahili'), ('swahili', 'swahili'), ('tagalog', 'tagalog'), ('nahuatl', 'nahuatl'), ('tagalog', 'tagalog'), ('swahili', 'swahili'), ('tagalog', 'tagalog'), ('tagalog', 'tagalog'), ('tagalog', 'tagalog'), ('swahili', 'swahili'), ('tagalog', 'tagalog'), ('swahili', 'swahili'), ('tagalog', 'tagalog'), ('swahili', 'swahili'), ('swahili', 'swahili'), ('tagalog', 'tagalog'), ('swahili', 'swahili'), ('swahili', 'swahili'), ('tagalog', 'tagalog'), ('tagalog', 'tagalog'), ('tagalog', 'tagalog'), ('manobo', 'manobo'), ('tagalog', 'tagalog'), ('swahili', 'swahili'), ('tagalog', 'tagalog'), ('manobo', 'manobo'), ('manobo', 'manobo'), ('nahuatl', 'nahuatl'), ('indonesian', 'indonesian'), ('swahili', 'swahili'), ('tagalog', 'tagalog'), ('tagalog', 'tagalog'), ('indonesian', 'indonesian'), ('swahili', 'swahili'), ('swahili', 'swahili'), ('tagalog', 'tagalog'), ('nahuatl', 'nahuatl'), ('tagalog', 'tagalog'), ('tagalog', 'tagalog'), ('swahili', 'swahili'), ('swahili', 'swahili'), ('swahili', 'swahili'), ('swahili', 'swahili'), ('swahili', 'swahili'), ('swahili', 'swahili'), ('swahili', 'swahili'), ('tagalog', 'tagalog'), ('swahili', 'swahili'), ('swahili', 'swahili'), ('hausa', 'hausa'), ('hausa', 'swahili'), ('hausa', 'hausa'), ('swahili', 'swahili'), ('swahili', 'swahili'), ('tagalog', 'tagalog'), ('manobo', 'manobo'), ('indonesian', 'indonesian'), ('hausa', 'swahili'), ('swahili', 'swahili'), ('swahili', 'swahili'), ('tagalog', 'tagalog'), ('manobo', 'manobo'), ('nahuatl', 'swahili'), ('swahili', 'swahili'), ('tagalog', 'tagalog'), ('manobo', 'manobo'), ('tagalog', 'tagalog'), ('indonesian', 'indonesian'), ('swahili', 'swahili'), ('tagalog', 'tagalog'), ('tagalog', 'tagalog'), ('tagalog', 'tagalog'), ('swahili', 'swahili'), ('tagalog', 'tagalog'), ('swahili', 'swahili'), ('swahili', 'swahili'), ('hausa', 'hausa'), ('tagalog', 'tagalog'), ('manobo', 'manobo'), ('tagalog', 'tagalog'), ('nahuatl', 'nahuatl'), ('swahili', 'swahili'), ('swahili', 'swahili'), ('tagalog', 'tagalog'), ('swahili', 'swahili'), ('tagalog', 'tagalog'), ('nahuatl', 'nahuatl'), ('tagalog', 'tagalog'), ('tagalog', 'tagalog'), ('swahili', 'swahili'), ('tagalog', 'tagalog'), ('swahili', 'swahili'), ('swahili', 'swahili'), ('hausa', 'hausa'), ('tagalog', 'tagalog'), ('swahili', 'swahili'), ('swahili', 'swahili'), ('swahili', 'swahili'), ('swahili', 'swahili'), ('swahili', 'swahili'), ('nahuatl', 'nahuatl'), ('manobo', 'manobo'), ('swahili', 'swahili'), ('swahili', 'swahili'), ('manobo', 'manobo'), ('tagalog', 'tagalog'), ('swahili', 'swahili'), ('swahili', 'swahili'), ('nahuatl', 'nahuatl'), ('nahuatl', 'nahuatl'), ('tagalog', 'tagalog'), ('tagalog', 'tagalog'), ('tagalog', 'tagalog'), ('manobo', 'manobo'), ('tagalog', 'tagalog'), ('hausa', 'hausa'), ('swahili', 'swahili'), ('swahili', 'swahili'), ('tagalog', 'tagalog'), ('tagalog', 'tagalog'), ('hausa', 'hausa'), ('swahili', 'swahili'), ('nahuatl', 'nahuatl'), ('swahili', 'swahili'), ('swahili', 'swahili'), ('tagalog', 'tagalog'), ('indonesian', 'indonesian'), ('hausa', 'hausa'), ('nahuatl', 'nahuatl'), ('swahili', 'swahili'), ('hausa', 'hausa'), ('tagalog', 'tagalog'), ('swahili', 'swahili'), ('swahili', 'swahili'), ('tagalog', 'tagalog'), ('tagalog', 'tagalog'), ('tagalog', 'tagalog'), ('swahili', 'swahili'), ('nahuatl', 'swahili'), ('tagalog', 'tagalog'), ('manobo', 'manobo'), ('manobo', 'manobo'), ('swahili', 'swahili'), ('nahuatl', 'nahuatl'), ('nahuatl', 'nahuatl'), ('swahili', 'swahili'), ('hausa', 'hausa'), ('swahili', 'swahili'), ('hausa', 'indonesian'), ('tagalog', 'tagalog'), ('swahili', 'swahili'), ('swahili', 'swahili'), ('indonesian', 'indonesian'), ('swahili', 'swahili'), ('manobo', 'manobo'), ('tagalog', 'tagalog'), ('nahuatl', 'nahuatl'), ('tagalog', 'tagalog'), ('swahili', 'swahili'), ('tagalog', 'tagalog'), ('tagalog', 'tagalog'), ('tagalog', 'tagalog'), ('swahili', 'swahili'), ('swahili', 'swahili'), ('manobo', 'manobo'), ('swahili', 'swahili'), ('swahili', 'swahili'), ('indonesian', 'indonesian'), ('tagalog', 'tagalog'), ('hausa', 'swahili'), ('tagalog', 'tagalog'), ('swahili', 'swahili'), ('swahili', 'swahili'), ('tagalog', 'tagalog'), ('tagalog', 'tagalog'), ('indonesian', 'indonesian'), ('tagalog', 'tagalog'), ('nahuatl', 'nahuatl'), ('indonesian', 'indonesian'), ('manobo', 'manobo'), ('manobo', 'swahili'), ('indonesian', 'indonesian'), ('indonesian', 'indonesian'), ('tagalog', 'tagalog'), ('hausa', 'swahili'), ('manobo', 'manobo'), ('nahuatl', 'nahuatl'), ('swahili', 'swahili'), ('swahili', 'swahili'), ('swahili', 'swahili'), ('hausa', 'hausa'), ('swahili', 'swahili'), ('nahuatl', 'nahuatl'), ('swahili', 'swahili'), ('nahuatl', 'nahuatl'), ('swahili', 'swahili'), ('swahili', 'swahili'), ('tagalog', 'tagalog'), ('swahili', 'swahili'), ('manobo', 'manobo'), ('swahili', 'swahili'), ('tagalog', 'tagalog'), ('indonesian', 'tagalog'), ('swahili', 'swahili'), ('swahili', 'swahili'), ('swahili', 'swahili'), ('tagalog', 'tagalog'), ('swahili', 'swahili'), ('nahuatl', 'nahuatl'), ('swahili', 'swahili'), ('tagalog', 'tagalog'), ('tagalog', 'tagalog'), ('hausa', 'hausa'), ('tagalog', 'tagalog'), ('indonesian', 'indonesian'), ('hausa', 'swahili'), ('nahuatl', 'nahuatl'), ('swahili', 'swahili'), ('swahili', 'swahili'), ('nahuatl', 'nahuatl'), ('swahili', 'swahili'), ('manobo', 'manobo'), ('swahili', 'swahili'), ('swahili', 'swahili'), ('nahuatl', 'nahuatl'), ('swahili', 'swahili'), ('tagalog', 'tagalog'), ('swahili', 'swahili'), ('tagalog', 'tagalog'), ('swahili', 'swahili'), ('swahili', 'swahili'), ('tagalog', 'tagalog'), ('tagalog', 'tagalog'), ('swahili', 'swahili'), ('swahili', 'swahili'), ('tagalog', 'tagalog'), ('tagalog', 'tagalog'), ('swahili', 'swahili'), ('tagalog', 'tagalog'), ('indonesian', 'indonesian'), ('tagalog', 'tagalog'), ('indonesian', 'indonesian'), ('indonesian', 'indonesian'), ('hausa', 'hausa'), ('tagalog', 'tagalog'), ('tagalog', 'tagalog'), ('indonesian', 'indonesian'), ('tagalog', 'tagalog'), ('tagalog', 'tagalog'), ('nahuatl', 'nahuatl'), ('tagalog', 'tagalog'), ('hausa', 'hausa'), ('tagalog', 'tagalog'), ('swahili', 'swahili'), ('swahili', 'swahili'), ('swahili', 'swahili'), ('swahili', 'swahili'), ('swahili', 'swahili'), ('nahuatl', 'nahuatl'), ('swahili', 'swahili'), ('tagalog', 'tagalog'), ('swahili', 'swahili'), ('swahili', 'swahili'), ('hausa', 'hausa'), ('hausa', 'hausa'), ('tagalog', 'tagalog'), ('indonesian', 'indonesian'), ('nahuatl', 'nahuatl'), ('swahili', 'swahili'), ('manobo', 'manobo'), ('hausa', 'swahili'), ('hausa', 'swahili'), ('tagalog', 'tagalog'), ('swahili', 'swahili'), ('nahuatl', 'nahuatl'), ('indonesian', 'indonesian'), ('manobo', 'manobo'), ('nahuatl', 'nahuatl'), ('swahili', 'swahili'), ('indonesian', 'indonesian'), ('tagalog', 'tagalog'), ('tagalog', 'tagalog'), ('tagalog', 'tagalog'), ('manobo', 'manobo'), ('swahili', 'swahili'), ('manobo', 'manobo'), ('tagalog', 'tagalog'), ('swahili', 'swahili'), ('swahili', 'swahili'), ('tagalog', 'tagalog'), ('indonesian', 'indonesian'), ('tagalog', 'tagalog'), ('tagalog', 'tagalog'), ('tagalog', 'tagalog'), ('swahili', 'swahili')]\n"
          ]
        }
      ],
      "source": [
        "# the output of this cell will be used for test 3.1\n",
        "test_labels, test_documents = zip(*test_observations)\n",
        "#print(test_labels)\n",
        "#print(test_documents)\n",
        "test_predictions = predict(\n",
        "    test_documents,\n",
        "    W_inspect,\n",
        "    feature_map,\n",
        "    lang_map,\n",
        "    ngram_length=INSPECTION_NGRAMS,\n",
        "    return_class_names=True,\n",
        ")\n",
        "\n",
        "test_labels_predictions = list(zip(test_labels, test_predictions))\n",
        "print(test_labels_predictions) "
      ]
    },
    {
      "cell_type": "markdown",
      "metadata": {
        "id": "HH5VlGV2yE1Q"
      },
      "source": [
        "### Plotting a Confusion Matrix\n",
        "\n",
        " A _confusion matrix_ is a $k \\times k$ matrix, where k is your number of classes, where the cell in position $(i,j)$ counts the number of instances that belong to class $i$ that were predicted to be in class $j$. The diagonal entries represent correct classifications; anything off of the diagonal represents an incorrect classification. The example below, from the [scikit learn documentation](https://scikit-learn.org/stable/modules/generated/sklearn.metrics.ConfusionMatrixDisplay.html), shows a confusion matrix for a binary classification problem.\n",
        "\n",
        "![A confusion matrix for a binary classification problem](confusion_matrix.png)\n",
        "\n",
        "\n",
        "Confusion matrices can be useful to see what types of errors your classifier is making. If errors are concentrated into particular cells, it could indicate the kind of data that your classifier struggles with. Write a function to take a list of test observations, and output a numpy array that represents your classifier's confusion matrix."
      ]
    },
    {
      "cell_type": "code",
      "execution_count": 27,
      "metadata": {
        "id": "YAjrzsrVyE1Q"
      },
      "outputs": [],
      "source": [
        "from sklearn.metrics import confusion_matrix\n",
        "def get_confusion_matrix(\n",
        "    labels: list[str], predictions: list[str], lang_map: dict[str, np.ndarray]\n",
        ") -> np.ndarray:\n",
        "    # your code here\n",
        "    labels_vectors = [lang_map[gt_class] for gt_class in labels]\n",
        "    predicted_vectors = [lang_map[pred_class] for pred_class in predictions]\n",
        "    #print(labels_vectors)\n",
        "    #print(predicted_vectors)\n",
        "    one_hot_encode_label = [np.argmax(label_vector) for label_vector in labels_vectors]\n",
        "    one_hot_encoder_prediction = [np.argmax(predicted_vector) for predicted_vector in predicted_vectors]\n",
        "    c_matrix = confusion_matrix(one_hot_encode_label,one_hot_encoder_prediction, )\n",
        "    c_matrix = c_matrix.astype(float)\n",
        "    return c_matrix\n",
        "    \n",
        "    "
      ]
    },
    {
      "cell_type": "markdown",
      "metadata": {
        "id": "gBT2kw9UyE1Q"
      },
      "source": [
        "Now, print your confusion matrix."
      ]
    },
    {
      "cell_type": "code",
      "execution_count": 28,
      "metadata": {
        "colab": {
          "base_uri": "https://localhost:8080/"
        },
        "id": "UWUEm2gLyE1Q",
        "outputId": "6b9b8074-c459-448a-cc62-e6b8d22c17a6",
        "output_for": "3.2",
        "tags": [
          "Answer Expected"
        ]
      },
      "outputs": [
        {
          "data": {
            "text/plain": [
              "array([[ 18.,   1.,   0.,   0.,   9.,   0.],\n",
              "       [  0.,  31.,   0.,   0.,   0.,   1.],\n",
              "       [  0.,   0.,  33.,   0.,   1.,   0.],\n",
              "       [  0.,   0.,   0.,  34.,   2.,   0.],\n",
              "       [  0.,   0.,   0.,   0., 142.,   0.],\n",
              "       [  0.,   0.,   0.,   0.,   1., 120.]])"
            ]
          },
          "execution_count": 28,
          "metadata": {},
          "output_type": "execute_result"
        }
      ],
      "source": [
        "# the output of this cell will be used for test 3.2\n",
        "get_confusion_matrix(test_labels, test_predictions, lang_map)"
      ]
    },
    {
      "cell_type": "markdown",
      "metadata": {
        "id": "DJ3tsbqqyE1Q"
      },
      "source": [
        "From your confusion matrix, how many Hausa examples are misclassified as Swahili? Print each of the misclassified documents on a new line."
      ]
    },
    {
      "cell_type": "code",
      "execution_count": 29,
      "metadata": {},
      "outputs": [],
      "source": [
        "cm = get_confusion_matrix(test_labels, test_predictions, lang_map)"
      ]
    },
    {
      "cell_type": "code",
      "execution_count": 30,
      "metadata": {
        "colab": {
          "base_uri": "https://localhost:8080/"
        },
        "id": "yQT9ECjIyE1R",
        "outputId": "2973f0d5-f77e-42a2-c270-20a9b7549d0c",
        "output_for": "3.3",
        "tags": [
          "Answer Expected"
        ]
      },
      "outputs": [
        {
          "name": "stdout",
          "output_type": "stream",
          "text": [
            "Dalilin haka kuwa sun nuna cewa ayukan da shari'a take bukata na nan a rubuce a zuciyarsu. lamirinsu kuma na yi masu shaida, tunanainsu kuma, ko dai yana kashe su, ko kuma yana karesu.\n",
            "Sai aka kawo kansa bisa tire, aka mika wa yarinyar, ta kuwa kai wa mahaifiyarta.\n",
            "Ta wurin haka Yesu ya bada tabbatacce da kuma ingataccen alkwari.\n",
            "Baku sani ba mu za mu yiwa mala'iku shari'a? Balle shari'ar al'amuran wannan rai?\n",
            "Ya ce masu, \"A rubuce yake, cewa Almasihu za ya sha wuya, zai tashi kuma daga matattu a rana ta uku.\n",
            "Bayan shekara uku na je Urushalima don in san Kefas, na zauna da shi na kwana goma sha biyar.\n",
            "Ga wani yin ayyukan iko, ga wani kuwa annabci. Ga wani kuwa an ba shi baiwar bambance ruhohi, ga wani harsuna daban daban, kuma ga wani fassarar harsuna.\n",
            "Amma da hankalinsa ya dawo, ya ce, 'Barorin mahaifina su nawa ne da suke da abinci isasshe, amma ina nan a nan, ina mutuwa sabili da yunwa!\n",
            "Wannan dabban da na gani yana kama da damisa, kafafunsa kuma kamar na beyar, bakinsa kuma kamar na zaki. Wannan diragon ya ba shi karfinsa, da kursiyinsa da ikonsa mai girma na sarauta.\n"
          ]
        }
      ],
      "source": [
        "# the output of this cell will be used for test 3.3\n",
        "# your code here\n",
        "def misclassified_example(documents: list[str],labels: list[str], predictions: list[str], lang_map: dict[str, np.ndarray]):\n",
        "    labels_vectors = [lang_map[gt_class] for gt_class in labels]\n",
        "    predicted_vectors = [lang_map[pred_class] for pred_class in predictions]\n",
        "\n",
        "    one_hot_encode_label = [np.argmax(label_vector) for label_vector in labels_vectors]\n",
        "    one_hot_encoder_prediction = [np.argmax(predicted_vector) for predicted_vector in predicted_vectors]\n",
        "    \n",
        "    hausa_idx = np.argmax(lang_map['hausa'])\n",
        "    swahili_idx = np.argmax(lang_map['swahili'])\n",
        "    \n",
        "    #Calculate misclassified example\n",
        "    misclassified_example_count = cm[hausa_idx,swahili_idx]\n",
        "    #print(f\"Number of Hausa examples misclassified as Swahili: {misclassified_example_count}\")\n",
        "    for i, (label, prediction) in enumerate(zip(one_hot_encode_label,one_hot_encoder_prediction)):\n",
        "        if label == hausa_idx and prediction == swahili_idx:\n",
        "            print(documents[i])\n",
        "\n",
        "misclassified_example(test_documents,test_labels, test_predictions, lang_map)\n"
      ]
    },
    {
      "cell_type": "markdown",
      "metadata": {
        "id": "hxINVZHDyE1R"
      },
      "source": [
        "Can you formulate a hypothesis for why these Hausa examples are being misclassified as Swahili? Peruse the Wikipedia pages of the two languages, and inspect the data and features of the two languages. Consider reasons based in what you know about the languages, and about machine learning. Try to come up with 2-3 experiments you might run to validate your hypothesis."
      ]
    },
    {
      "cell_type": "markdown",
      "metadata": {
        "id": "LarqWkqQyE1R"
      },
      "source": [
        "### Examining Feature Weights\n",
        "\n",
        "The classifier that we've built for softmax classification behaves in many ways like using several binary softmax classifiers stacked together. The $K \\times N$ feature matrix can interpreted as a $1 \\times N$ feature vector for each class. In this section, we'll examine the weights for a few of our classified languages. To get feature names out of these vectors, we'll construct an inverted feature map, that maps indices in the feature vectors back to n-grams. Then, extract the $1 \\times N$ vector that corresponds to Hausa. Print the shape of the Hausa feature vector."
      ]
    },
    {
      "cell_type": "code",
      "execution_count": 31,
      "metadata": {
        "colab": {
          "base_uri": "https://localhost:8080/"
        },
        "id": "FL8Pl5iPyE1R",
        "outputId": "6c5cd39e-e46d-4cb0-d1de-461869319847",
        "output_for": "4.1"
      },
      "outputs": [
        {
          "name": "stdout",
          "output_type": "stream",
          "text": [
            "(7942, 1)\n"
          ]
        }
      ],
      "source": [
        "# the output of this cell will be used for test 4.1\n",
        "# Invert the feature map\n",
        "inverted_feature_map = {v: k for k, v in feature_map.items()}\n",
        "#print(inverted_feature_map)\n",
        "# your code here\n",
        "hausa_feature_vector = W_inspect[0,:].reshape(-1,1)\n",
        "#print(f\" hausa_feature_vector: {hausa_feature_vector}\")\n",
        "print(hausa_feature_vector.shape)"
      ]
    },
    {
      "cell_type": "markdown",
      "metadata": {
        "id": "9l46owXayE1R"
      },
      "source": [
        "Now, let's find the features that are most strongly predictive of an instance being Hausa. From the Hausa feature vector, find the names of the features with the top-10 positive values. Print your results with a tuple of (feature name, feature_weight) on each line:\n",
        "```\n",
        "(\"aaa\", 0.04597442104739769)\n",
        "(\"bbb\", 0.03454984682736487)\n",
        "```"
      ]
    },
    {
      "cell_type": "code",
      "execution_count": 32,
      "metadata": {
        "colab": {
          "base_uri": "https://localhost:8080/"
        },
        "id": "ALnp3khdyE1R",
        "outputId": "47dc8274-bbb5-48eb-f678-3a483979814d",
        "output_for": "4.2",
        "tags": [
          "Answer Expected"
        ]
      },
      "outputs": [
        {
          "name": "stdout",
          "output_type": "stream",
          "text": [
            "('da ', 0.063150564082901)\n",
            "(' da', 0.05436389317213128)\n",
            "('in ', 0.027868422071017723)\n",
            "(' ya', 0.024879680266762787)\n",
            "('ar ', 0.02327761116542884)\n",
            "(' sh', 0.02198093247915512)\n",
            "(' ba', 0.021048163450823363)\n",
            "('ai ', 0.020038068668300366)\n",
            "('ka ', 0.019952359788949974)\n",
            "('ya ', 0.019178269118966848)\n"
          ]
        }
      ],
      "source": [
        "# the output of this cell will be used for test 4.2\n",
        "# your code here\n",
        "def most_important_feature_for_lauguage(language: str):\n",
        "    language_idx = np.argmax(lang_map[language])\n",
        "    language_feature_vector = W_inspect[language_idx,:]\n",
        "    top_indices = np.argsort(language_feature_vector)[::-1][:10]\n",
        "    \n",
        "    for idx in top_indices:\n",
        "        top_features = (inverted_feature_map[idx], language_feature_vector[idx])\n",
        "        print(f\"{top_features}\") \n",
        "    \n",
        "most_important_feature_for_lauguage('hausa')"
      ]
    },
    {
      "cell_type": "markdown",
      "metadata": {
        "id": "zxuk4VZryE1R"
      },
      "source": [
        "Now, for each language, print the top-10 features. Print the name of each language, and then a list of it's top-10 features on the following line, e.g.\n",
        "\n",
        "```\n",
        "hausa\n",
        "[(\"aaa\", 0.04597442104739769)...]\n",
        "indonesian\n",
        "[(\"aaa\", 0.04597442104739769)...]\n",
        "```"
      ]
    },
    {
      "cell_type": "code",
      "execution_count": 33,
      "metadata": {},
      "outputs": [],
      "source": [
        "def most_important_feature_for_lauguage(language: str):\n",
        "    language_idx = np.argmax(lang_map[language])\n",
        "    language_feature_vector = W_inspect[language_idx,:]\n",
        "    top_indices = np.argsort(language_feature_vector)[::-1][:10]\n",
        "    \n",
        "    top_features = [(inverted_feature_map[idx], language_feature_vector[idx]) for idx in top_indices]\n",
        "    print(language)\n",
        "    print(top_features)  "
      ]
    },
    {
      "cell_type": "code",
      "execution_count": 34,
      "metadata": {
        "colab": {
          "base_uri": "https://localhost:8080/"
        },
        "id": "flCuKMqLyE1R",
        "outputId": "313c23e5-5a96-4a7b-8947-82a79256affb",
        "output_for": "4.3",
        "tags": [
          "Answer Expected"
        ]
      },
      "outputs": [
        {
          "name": "stdout",
          "output_type": "stream",
          "text": [
            "hausa\n",
            "[('da ', 0.063150564082901), (' da', 0.05436389317213128), ('in ', 0.027868422071017723), (' ya', 0.024879680266762787), ('ar ', 0.02327761116542884), (' sh', 0.02198093247915512), (' ba', 0.021048163450823363), ('ai ', 0.020038068668300366), ('ka ', 0.019952359788949974), ('ya ', 0.019178269118966848)]\n",
            "indonesian\n",
            "[('an ', 0.06804588397633496), (' me', 0.06296123413453154), ('ang', 0.05154754483007456), ('ber', 0.037686959958658395), (' be', 0.037192031587281224), (' ke', 0.03452062978681125), (' se', 0.03324158839344721), ('men', 0.033132192231201625), (' di', 0.03245654176502971), ('ah ', 0.030398224045560435)]\n",
            "manobo\n",
            "[(' to', 0.107483603861862), ('to ', 0.10445031656438448), (' no', 0.07028591690295224), ('no ', 0.05550510517116152), ('an ', 0.035445216508256695), (' og', 0.035146648956816885), ('ow ', 0.03348412435308619), ('n t', 0.029773861801011665), ('din', 0.028821441995230877), ('on ', 0.027656726512025165)]\n",
            "nahuatl\n",
            "[('tla', 0.0634978527218824), (' tl', 0.06032244072232518), ('iva', 0.03857687930949735), ('en ', 0.03835791268396555), ('va ', 0.03645347405308246), ('len', 0.03546806924912793), (' in', 0.035139038124397115), ('tle', 0.03451515404817115), ('keh', 0.028698132694506197), (' ok', 0.02723314830481151)]\n",
            "swahili\n",
            "[('wa ', 0.12794292233096258), (' wa', 0.11512051674271451), ('na ', 0.0933882405150367), ('a k', 0.0907469698173266), ('a m', 0.07502591759995446), (' na', 0.06697104930386924), (' ku', 0.06536563489475732), (' kw', 0.058862398396386226), (' ya', 0.0545070185395763), ('ni ', 0.05409784337279098)]\n",
            "tagalog\n",
            "[('ng ', 0.2028319308881997), ('sa ', 0.0816868607338825), ('ang', 0.0804567118024893), (' sa', 0.07195192125265297), (' ng', 0.06782998219125647), (' an', 0.05930270090602768), ('ay ', 0.05460276407961421), ('g m', 0.049187747998878435), ('at ', 0.04752241520434205), (' na', 0.04255748089350637)]\n"
          ]
        }
      ],
      "source": [
        "# the output of this cell will be used for test 4.3\n",
        "# your code here\n",
        "lauguage_list = ['hausa','indonesian','manobo','nahuatl','swahili','tagalog']\n",
        "for language in lauguage_list:\n",
        "    most_important_feature_for_lauguage(language)"
      ]
    },
    {
      "cell_type": "markdown",
      "metadata": {
        "id": "AJQuqbexyE1R"
      },
      "source": [
        "Choose one of the languages, and peruse its Wikipedia page or other reliable resources to learn a bit more about the language. Do the top 10 features in that language make sense given what you've learned about the structure of the language? Why or why not? Again, consider reasons stemming both from what you've learned about the language, as well as machine learning and multinomial logistic regression specifically."
      ]
    },
    {
      "cell_type": "markdown",
      "metadata": {
        "id": "kN8KW-cJyE1R"
      },
      "source": [
        "### Extra Credit\n",
        "\n",
        "Implement at least one of the experiments you devised to test your hypothesis regarding misclassification of Hausa as Swahili. In order to get credit you must submit not just the code and results, but also clearly describe your hypothesis, the experiment, and why the experiment is suitable to test your hypothesis. Full credit will be given to hypotheses and experiments that are well thought out, explained clearly and convincingly, and backed up with suitable evidence (computed or cited)."
      ]
    },
    {
      "cell_type": "markdown",
      "metadata": {},
      "source": [
        "#### Ans:\n",
        "*I found that these two languages' writing systems all include Latin and Arabic script. Hence, it might be the reason that their language are somehow simialr, which makes the model confused.*\n",
        "#### Experiments:\n",
        "*1. Remove some common Arabic loanwords from both datasets to decrease the similarity of these two language.*\n",
        "*2. Use different numbers of n in n-gram to see whether the large or small one is better.*"
      ]
    },
    {
      "cell_type": "code",
      "execution_count": 35,
      "metadata": {
        "id": "8CjOAt7tyE1R"
      },
      "outputs": [],
      "source": [
        "# Implement extra credit here."
      ]
    }
  ],
  "metadata": {
    "colab": {
      "provenance": []
    },
    "kernelspec": {
      "display_name": "Python 3.8.13 ('nlphw03')",
      "language": "python",
      "name": "python3"
    },
    "language_info": {
      "codemirror_mode": {
        "name": "ipython",
        "version": 3
      },
      "file_extension": ".py",
      "mimetype": "text/x-python",
      "name": "python",
      "nbconvert_exporter": "python",
      "pygments_lexer": "ipython3",
      "version": "3.9.19"
    },
    "orig_nbformat": 4,
    "vscode": {
      "interpreter": {
        "hash": "9b5c567e963c4c8a4f65edac5dbbc9d8f011f564e4ce8a416ba289a7b299ae77"
      }
    }
  },
  "nbformat": 4,
  "nbformat_minor": 0
}
